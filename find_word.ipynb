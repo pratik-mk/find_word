{
 "cells": [
  {
   "cell_type": "code",
   "execution_count": 4,
   "metadata": {},
   "outputs": [
    {
     "name": "stdout",
     "output_type": "stream",
     "text": [
      "E N V L P T Y O M G H\n",
      "S O R G A N I C J Q A\n",
      "D P H J I B Z A X B S\n",
      "E U T L D O X S P F H\n",
      "C W E B S I T E H V T\n",
      "K J Q U P A L S P C A\n",
      "L W M A R K E T I N G\n",
      "U H E S I F H U T Z F\n",
      "T K D N A Y Q D C T C\n",
      "Z G I E M L D Y H L X\n",
      "J Y A U K P E K S E O\n",
      "\n"
     ]
    }
   ],
   "source": [
    "puzzle='''E N V L P T Y O M G H\n",
    "S O R G A N I C J Q A\n",
    "D P H J I B Z A X B S\n",
    "E U T L D O X S P F H\n",
    "C W E B S I T E H V T\n",
    "K J Q U P A L S P C A\n",
    "L W M A R K E T I N G\n",
    "U H E S I F H U T Z F\n",
    "T K D N A Y Q D C T C\n",
    "Z G I E M L D Y H L X\n",
    "J Y A U K P E K S E O\n",
    "'''\n",
    "\n",
    "print(puzzle)"
   ]
  },
  {
   "cell_type": "code",
   "execution_count": 5,
   "metadata": {},
   "outputs": [
    {
     "name": "stdout",
     "output_type": "stream",
     "text": [
      "['MARKETING', 'CASESTUDY', 'ORGANIC', 'PAID', 'PITCH', 'SEO', 'HASHTAG', 'CTC', 'WEBSITE', 'DECK', 'MEDIA', 'SALE']\n"
     ]
    }
   ],
   "source": [
    "clues = ['MARKETING', 'CASESTUDY', 'ORGANIC', 'PAID',\n",
    "            'PITCH', 'SEO', 'HASHTAG', 'CTC', 'WEBSITE', 'DECK', 'MEDIA', 'SALE']\n",
    "print(clues)"
   ]
  },
  {
   "cell_type": "code",
   "execution_count": 6,
   "metadata": {},
   "outputs": [],
   "source": [
    "puzzle = puzzle.replace(' ','')            \n",
    "length = puzzle.index('\\n')+1"
   ]
  },
  {
   "cell_type": "code",
   "execution_count": 7,
   "metadata": {},
   "outputs": [],
   "source": [
    "#Make a list of tuples containing each letter and its row and column\n",
    "letters = [(letter, divmod(index, length))\n",
    "            for  index, letter in enumerate (puzzle)]"
   ]
  },
  {
   "cell_type": "code",
   "execution_count": 8,
   "metadata": {},
   "outputs": [],
   "source": [
    "#Reorder the list to represent each reading direction,\n",
    "#and add them all to a dictionary\n",
    "lines = {}\n",
    "offsets = {'down':0, 'right down':-1, 'left down':1}\n",
    "for direction, offset in offsets.items():\n",
    "    lines[direction] = []\n",
    "    for i in range(length):\n",
    "        for j in range(i, len(letters), length + offset):\n",
    "            lines[direction].append(letters[j])\n",
    "        lines[direction].append('\\n')\n",
    "lines['left']  = letters\n",
    "lines['right'] = [i for i in reversed(letters)]\n",
    "lines['up'] = [i for i in reversed(lines['down'])]\n",
    "lines['left up'] = [i for i in reversed(lines['right down'])]\n",
    "lines['right up'] = [i for i in reversed(lines['left down'])]"
   ]
  },
  {
   "cell_type": "code",
   "execution_count": 9,
   "metadata": {},
   "outputs": [
    {
     "name": "stdout",
     "output_type": "stream",
     "text": [
      "CASESTUDY row 2 column 8 down\n",
      "PAID row 1 column 5 down\n",
      "PITCH row 6 column 9 down\n",
      "HASHTAG row 1 column 11 down\n",
      "DECK row 3 column 1 down\n",
      "MEDIA row 7 column 3 down\n",
      "SALE row 8 column 4 left down\n",
      "MARKETING row 7 column 3 left\n",
      "ORGANIC row 2 column 2 left\n",
      "SEO row 11 column 9 left\n",
      "CTC row 9 column 9 left\n",
      "WEBSITE row 5 column 2 left\n",
      "CTC row 9 column 11 right\n"
     ]
    }
   ],
   "source": [
    "#Make strings from the letters, find the words in them and retrieve\n",
    "#their original locations\n",
    "for direction, tup in lines.items():\n",
    "    string = ''.join([i[0] for i in tup])\n",
    "    for word in clues:\n",
    "        if word in string:\n",
    "            location = tup[string.index(word)][1]\n",
    "            print(word, 'row', location[0]+1, 'column', location[1]+1, direction)\n",
    "\n",
    "\n"
   ]
  }
 ],
 "metadata": {
  "kernelspec": {
   "display_name": "Python 3",
   "language": "python",
   "name": "python3"
  },
  "language_info": {
   "codemirror_mode": {
    "name": "ipython",
    "version": 3
   },
   "file_extension": ".py",
   "mimetype": "text/x-python",
   "name": "python",
   "nbconvert_exporter": "python",
   "pygments_lexer": "ipython3",
   "version": "3.6.4"
  }
 },
 "nbformat": 4,
 "nbformat_minor": 2
}
